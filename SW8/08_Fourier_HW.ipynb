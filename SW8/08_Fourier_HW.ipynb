{
 "cells": [
  {
   "cell_type": "markdown",
   "metadata": {
    "collapsed": false,
    "pycharm": {
     "name": "#%% md\n"
    }
   },
   "source": [
    "## Zadanie domowe: Projektowanie filtru metodą okien\n",
    "\n",
    "Zauważone w zadaniu z filtracją artefakty są efektem zastosowania filtru idealnego (wycięcia odpowiednich częstotliwości).\n",
    "Aby je usunąć, należy filtr idealny w dziedzinie przestrzennej przemnożyć przez dwuwymiarowe okno (stworzone na podstawie jednowymiarowego).\n",
    "\n",
    "1. Zdefiniuj rozmiar filtra (np. 21).\n",
    "\n",
    "2. Stwórz okno np. Hanninga (`np.hanning`) o zadanym rozmiarze.\n",
    "\n",
    "3. Na podstawie tego okna stwórz okno dwuwymiarowe: $F = f^Tf$.\n",
    "Można to zrealizować prostą instrukcją:\n",
    "\n",
    "        hanning2d = np.outer(hanning, hanning)\n",
    "\n",
    "4. Stwórz wzorcowy filtr idealny tak samo jak w poprzednim ćwiczeniu.\n",
    "Jego rozmiar musi być taki sam jak zdefiniowany w punkcie pierwszym.\n",
    "\n",
    "5. Generalna zasada jest taka, że należy obliczyć odwrotną transformatę Fouriera filtru idealnego.\n",
    "Aby zagwarantować jednak dobrą lokalizację i symetryczność tworzonego filtru wykorzystuje się dodatkowe rotacje i przesunięcia.\n",
    "\n",
    "        FilterFRot = np.rot90(np.fft.fftshift(np.rot90(FilterF, 2)), 2)\n",
    "        FilterFRot3 = np.dstack((FilterFRot, np.zeros(FilterFRot.shape)))\n",
    "        FilterFidft = cv2.idft(np.float32(FilterFRot3),\n",
    "                        flags=cv2.DFT_SCALE | cv2.DFT_COMPLEX_OUTPUT)\n",
    "        FilterFI = np.rot90(np.fft.fftshift(FilterFidft[:, :, 0]), 2)\n",
    "\n",
    "6. Aby otrzymać poprawny filtr należy teraz pomnożyć dwuwymiarowe okno ze stworzonym filtrem idealnym w dziedzinie przestrzennej.\n",
    "\n",
    "7. Stworzony filtr powinien zostać znowu przeniesiony do dziedziny częstotliwości.\n",
    "Należy jednak rozszerzyć go tak, aby miał taki sam rozmiar jak filtrowany obraz.\n",
    "Operację tę wykonaj tak samo jak w poprzednim ćwiczeniu (`cv2.copyMakeBorder`).\n",
    "Oblicz transformatę Fouriera i wykonaj przesunięcie.\n",
    "Następnie oblicz wartość bezwzględną (dzięki temu filtr nie będzie wpływał na fazę).\n",
    "Wynikiem jest poprawiony filtr w dziedzinie częstotliwości.\n",
    "\n",
    "8. Przeprowadź filtrację obrazu *lena.bmp* za pomocą zaprojektowanego filtra.\n",
    "Wyświetl filtr, oraz wynik filtracji.\n",
    "Do wyświetlenia filtru możesz użyć przestrzeń częstotliwości wygenerowaną w poprzednim zadaniu (*FSpaceRowsM* i *FSpaceColsM*)."
   ]
  },
  {
   "cell_type": "code",
   "execution_count": null,
   "metadata": {
    "collapsed": false,
    "pycharm": {
     "name": "#%% Zadanie 4 - okna\n"
    }
   },
   "outputs": [],
   "source": [
    "import cv2\n",
    "from matplotlib import pyplot as plt\n",
    "import numpy as np\n",
    "import math\n",
    "import os\n",
    "\n",
    "# Load required files\n",
    "if not os.path.exists(\"lena.bmp\") :\n",
    "    !wget https://raw.githubusercontent.com/vision-agh/poc_sw/master/08_Fourier/lena.bmp --no-check-certificate\n",
    "\n",
    "I_lena = cv2.imread('lena.bmp', cv2.IMREAD_GRAYSCALE)      "
   ]
  },
  {
   "cell_type": "code",
   "execution_count": null,
   "metadata": {},
   "outputs": [],
   "source": [
    "# funkcje z zadania podstawowego\n",
    "\n",
    "def fourier(I):\n",
    "    I = I.astype(\"float32\")\n",
    "    fcn = cv2.dft(I,flags=cv2.DFT_COMPLEX_OUTPUT)\n",
    "    fcn = np.fft.fftshift(fcn, [0,1])\n",
    "    magnitude, phase = cv2.cartToPolar(fcn[:,:,0], fcn[:,:,1])\n",
    "    magnitude_log = np.log10(magnitude + 1)\n",
    "    return fcn, magnitude_log, phase\n",
    "\n",
    "def invertion(F_img):\n",
    "    I_s = np.fft.ifftshift(F_img, [0,1])\n",
    "    ifft = cv2.idft(I_s, flags=cv2.DFT_SCALE | cv2.DFT_COMPLEX_OUTPUT)\n",
    "    I_ifft = cv2.magnitude(ifft[:, :, 0], ifft[:, :, 1])\n",
    "    I_ifft = np.round(I_ifft).astype('uint8')\n",
    "    return I_ifft\n"
   ]
  },
  {
   "cell_type": "code",
   "execution_count": null,
   "metadata": {},
   "outputs": [],
   "source": [
    "window_size=[21, 21]\n",
    "hanning = np.hanning(21)\n",
    "hanning2d = np.outer(hanning, hanning)\n",
    "\n",
    "FSpaceRows = 2*np.fft.fftshift(np.fft.fftfreq(window_size[0]))\n",
    "FSpaceRowsM = np.outer(FSpaceRows, np.ones([1, window_size[1]]))\n",
    "FSpaceCols = 2*np.fft.fftshift(np.fft.fftfreq(window_size[1]))\n",
    "FSpaceColsM = np.outer(np.ones([1, window_size[0]]), FSpaceCols)    \n",
    "FreqR = np.sqrt(np.square(FSpaceRowsM) + np.square(FSpaceColsM))\n",
    "\n",
    "FilterF = FreqR >= 0.2\n",
    "\n",
    "FilterFRot = np.rot90(np.fft.fftshift(np.rot90(FilterF, 2)), 2)\n",
    "FilterFRot3 = np.dstack((FilterFRot, np.zeros(FilterFRot.shape)))\n",
    "FilterFidft = cv2.idft(np.float32(FilterFRot3),flags=cv2.DFT_SCALE | cv2.DFT_COMPLEX_OUTPUT)\n",
    "FilterFI = np.rot90(np.fft.fftshift(FilterFidft[:, :, 0]), 2)\n",
    "\n",
    "Filtr = hanning2d * FilterFI\n",
    "\n",
    "Filtr_border = cv2.copyMakeBorder(Filtr, 246, 245, 246, 245, cv2.BORDER_CONSTANT,value=0)\n",
    "\n",
    "Filtr_border = Filtr_border.astype(\"float32\")\n",
    "fcn_filtr = cv2.dft(Filtr_border,flags=cv2.DFT_COMPLEX_OUTPUT)\n",
    "fcn_filtr = np.fft.fftshift(fcn_filtr, [0,1])\n",
    "\n",
    "fcn_filtr_abs = np.abs(fcn_filtr)\n",
    "\n",
    "lenaSize=I_lena.shape\n",
    "FSpaceRows512 = 2*np.fft.fftshift(np.fft.fftfreq(lenaSize[0]))\n",
    "FSpaceRowsM512 = np.outer(FSpaceRows512, np.ones([1, lenaSize[1]]))\n",
    "FSpaceCols512 = 2*np.fft.fftshift(np.fft.fftfreq(lenaSize[1]))\n",
    "FSpaceColsM512 = np.outer(np.ones([1, lenaSize[0]]), FSpaceCols512)  \n",
    "\n",
    "\n",
    "figFilter = plt.figure()\n",
    "axsFilter = figFilter.add_subplot(projection='3d')\n",
    "axsFilter.plot_surface(FSpaceRowsM512, FSpaceColsM512, fcn_filtr_abs[:,:,0], rstride=1, cstride=1, cmap=plt.get_cmap('gray'), linewidth=0)\n",
    "\n",
    "fcn_lena, _, _ = fourier(I_lena)\n",
    "\n",
    "lena_filtr = fcn_lena * fcn_filtr_abs\n",
    "lena_ifft = invertion(lena_filtr)\n",
    "\n",
    "f, (ax1, ax2, ax3) = plt.subplots(1,3,figsize=(15,10))\n",
    "ax1.imshow(I_lena, 'gray')\n",
    "ax1.set_title(\"Obraz oryginalny\")\n",
    "ax1.axis('off')\n",
    "ax2.imshow(lena_ifft, 'gray')\n",
    "ax2.set_title(\"Odwrotna transformata\")\n",
    "ax2.axis('off')\n",
    "ax3.imshow(np.abs(I_lena - lena_ifft), 'gray')\n",
    "ax3.set_title(\"Różnica\")\n",
    "ax3.axis('off')\n",
    "plt.show()\n"
   ]
  }
 ],
 "metadata": {
  "kernelspec": {
   "display_name": "Python 3",
   "language": "python",
   "name": "python3"
  },
  "language_info": {
   "codemirror_mode": {
    "name": "ipython",
    "version": 3
   },
   "file_extension": ".py",
   "mimetype": "text/x-python",
   "name": "python",
   "nbconvert_exporter": "python",
   "pygments_lexer": "ipython3",
   "version": "3.9.0"
  }
 },
 "nbformat": 4,
 "nbformat_minor": 4
}
