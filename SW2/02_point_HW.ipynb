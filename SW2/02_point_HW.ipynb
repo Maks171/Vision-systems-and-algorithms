{
 "cells": [
  {
   "cell_type": "markdown",
   "metadata": {
    "collapsed": false
   },
   "source": [
    "# Zadanie domowe\n",
    "\n",
    "W przypadku obrazów w odcieniach szarości pojedynczy piksel z zakresu [0; 255] reprezentowany jest jako 8-bitowa liczba bez znaku.\n",
    "Pewnym rozszerzeniem analizy sposobu reprezentacji obrazu może być następujący eksperyment.\n",
    "Załóżmy, że z każdego z 8 bitów możemy stworzyć pojedynczy obraz binarny (ang. _bit-plane slicing_).\n",
    "Dla obrazka _100zloty.jpg_ (https://raw.githubusercontent.com/vision-agh/poc_sw/master/02_Point/100zloty.jpg) stwórz 8 obrazów, z których każdy powinien zawierać jedną płaszczyznę bitową.\n",
    "Podpowiedź $-$ warto sprawdzić, jak realizuje się bitowe operacje logiczne.\n",
    "Zastosowanie takiej dekompozycji obrazu pozwala na analizę ,,ważności'' poszczególnych bitów.\n",
    "Jest to użyteczne w kwantyzacji, ale także w kompresji.\n",
    "\n",
    "W drugim etapie zadania proszę spróbować odtworzyć obraz oryginalny z mniejszej liczby obrazów binarnych.\n",
    "Warto zacząć od dwóch najbardziej znaczących bitów, a później dodawać kolejne.\n",
    "Należy utworzyć co najmniej trzy wersje zrekonstruowanych obrazów.\n",
    "Podpowiedź $-$ rekonstrukcja obrazu to mnożenie przez odpowiednią potęgę liczby 2 (przesunięcie bitowe) oraz dodawanie."
   ]
  },
  {
   "cell_type": "code",
   "execution_count": null,
   "metadata": {},
   "outputs": [],
   "source": [
    "import cv2\n",
    "import numpy as np\n",
    "import matplotlib.pyplot as plt\n",
    "import os\n",
    "\n",
    "if not os.path.exists(\"100zloty.jpg\") :\n",
    "    !wget https://raw.githubusercontent.com/vision-agh/poc_sw/master/02_Point/100zloty.jpg\n",
    "\n",
    "zl_100 = cv2.imread(\"100zloty.jpg\")\n",
    "zl = cv2.cvtColor(zl_100, cv2.COLOR_BGR2RGB)\n",
    "zl_gray = cv2.cvtColor(zl, cv2.COLOR_RGB2GRAY)\n",
    "\n",
    "bits = []\n",
    "x = 1\n",
    "for bit in [np.power(2, x) for x in range(8)]:\n",
    "    zero = bit * np.ones((847, 1661))\n",
    "    bit = cv2.bitwise_and(zl_gray, zero.astype('uint8'))\n",
    "    bits.append(bit)\n",
    "    plt.imshow(bit)\n",
    "    plt.title(\"Bit {}\".format(x))\n",
    "    plt.xticks([]), plt.yticks([])\n",
    "    plt.gray()\n",
    "    plt.show()\n",
    "    x += 1\n",
    "\n",
    "\n",
    "reconstruct1 = cv2.add(bits[7], bits[5])\n",
    "reconstruct2 = cv2.add(bits[6], bits[4])\n",
    "reconstruct3 = cv2.add(bits[7], bits[1])\n",
    "plt.imshow(reconstruct1)\n",
    "plt.title(\"Rekonstrukcja - bit 8 i 6\")\n",
    "plt.xticks([]), plt.yticks([])\n",
    "plt.show()\n",
    "plt.imshow(reconstruct2)\n",
    "plt.title(\"Rekonstrukcja - bit 7 i 5\")\n",
    "plt.xticks([]), plt.yticks([])\n",
    "plt.show()\n",
    "plt.imshow(reconstruct3)\n",
    "plt.title(\"Rekonstrukcja - bit 8 i 2\")\n",
    "plt.xticks([]), plt.yticks([])\n",
    "plt.show()\n"
   ]
  }
 ],
 "metadata": {
  "kernelspec": {
   "display_name": "Python 3",
   "language": "python",
   "name": "python3"
  },
  "language_info": {
   "codemirror_mode": {
    "name": "ipython",
    "version": 2
   },
   "file_extension": ".py",
   "mimetype": "text/x-python",
   "name": "python",
   "nbconvert_exporter": "python",
   "pygments_lexer": "ipython2",
   "version": "3.9.0"
  }
 },
 "nbformat": 4,
 "nbformat_minor": 0
}
