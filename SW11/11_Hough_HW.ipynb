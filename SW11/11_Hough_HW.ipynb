{
 "cells": [
  {
   "cell_type": "markdown",
   "metadata": {},
   "source": [
    "### Transformata Hougha w przestrzeni ab - Domowe\n",
    "Przestrzeń ρ,θ nie jest jedyną przestrzenią w której punkt odpowiada parametrom prostej. Np. można spróbować wykorzystać tradycyjne równanie prostej:\n",
    "\n",
    "y=ax+b\n",
    "\n",
    "W tej przestrzeni reprezentacją pęku prostych jest prosta. \n",
    "\n",
    "Zadanie: napisać funkcję, która jako argument przyjmuje obraz (binarny) oraz parametry:\n",
    "\n",
    "- aMin - minimalna wartość parametru a\n",
    "- aMax - maksymalna  wartość parametru a\n",
    "- aSkok - skok parametru a\n",
    "- bMin - minimalna wartość parametru b\n",
    "- bMax  - maksymalna  wartość parametru b\n",
    "- bSkok - skok parametru b\n",
    "Jako wynik ma zwrócić macierz przestrzeni Hougha ab.\n",
    "\n",
    "Uwagi:\n",
    "\n",
    "- zadanie może wyglądać na skomplikowane ale tak naprawdę wymaga tylko starannego przemyślenia\n",
    "- najważniejszy jest problem \"adresowania\" macierzy H. Można do tego wykorzystać dwa wektory A i B ze wszystkimi możliwymi wartościami jakie parametry a i b mogę przyjąć (w podanych zakresach z podanym skokiem). Wówczas indeksy tych wektorów będą współrzędnymi w macierzy H. Do stworzenia wektorów wykorzystaj funkcję _np.arange_\n",
    "- na podstawie rozmiaru wektorów A i B (własność _shape_) należy stworzyć wyzerowaną macierz H (funkcja _np.zeros_) \n",
    "- dla każdego punktu krawędzi na obrazie należy:\n",
    "    - używająć wektora A dla każdej z jego wartości a obliczyć odpowiednią wartość b - indeksy kolejnych wartości a (a_idx) będą jedną z współrzędnych macierzy H, natomiast drugą współrędną mozna uzyskać jako b_idx = np.argmin(abs(B - b)).\n",
    "        - każde a_idx i b_idx wyznaczą punkt w macierzy H, który należy zinkrementować\n",
    "- działanie funkcji należy przetestować na punktach generowanych w 'edytorku' z punktu \"Transformacja Hougha dla małej liczby punktów\". Proponowane parametry funkcji:\n",
    "    - aMin: -5\n",
    "    - aMax:  5\n",
    "    - aSkok: 0.05 \n",
    "    - bMin: -100\n",
    "    - bMax:  100\n",
    "    - bSkok: 1\n",
    "\n",
    "Zastanów się w przypadku jakich prostych reprezentacja ab nie sprawdzi się."
   ]
  },
  {
   "cell_type": "code",
   "execution_count": null,
   "metadata": {},
   "outputs": [],
   "source": [
    "import matplotlib.pyplot as plt\n",
    "import cv2\n",
    "import numpy as np\n",
    "from skimage.transform import hough_line, hough_line_peaks\n",
    "\n",
    "def Hough_ab(binary, aMin, aMax, aSkok, bMin, bMax, bSkok):\n",
    "    A = np.arange(aMin, aMax, aSkok)\n",
    "    B = np.arange(bMin, bMax, bSkok)\n",
    "    H = np.zeros((B.shape[0], A.shape[0]))\n",
    "    x_bin, y_bin = binary.shape\n",
    "    for i in range(x_bin):\n",
    "        for j in range(y_bin):\n",
    "            if (binary[i, j] == 1):\n",
    "                for a_index in range(len(A)):\n",
    "                    a_idx = a_index\n",
    "                    b = i - A[a_index] * j\n",
    "                    b_idx = np.argmin(abs(B - b))\n",
    "                    H[b_idx, a_idx] += 1\n",
    "    return H\n",
    "\n",
    "I = np.zeros((100, 100))\n",
    "I[50, 50] = 1\n",
    "Hough = Hough_ab(I, -5, 5, 0.05, -100, 100, 1)\n",
    "\n",
    "f, (ax1, ax2) = plt.subplots(1, 2, figsize=(15, 7))\n",
    "ax1.imshow(I, 'gray')\n",
    "ax1.set_title('Obraz oryginalny') \n",
    "ax2.imshow(Hough, 'gray')\n",
    "ax2.set_title('Transformata Hougha w przestrzeni ab')\n",
    "plt.show()   \n"
   ]
  },
  {
   "cell_type": "code",
   "execution_count": null,
   "metadata": {},
   "outputs": [],
   "source": [
    "I = np.zeros((100, 100))\n",
    "I[10, 30] = 1\n",
    "I[50, 60] = 1\n",
    "I[80, 20] = 1\n",
    "Hough = Hough_ab(I, -5, 5, 0.05, -100, 100, 1)\n",
    "\n",
    "f, (ax1, ax2) = plt.subplots(1, 2, figsize=(15, 7))\n",
    "ax1.imshow(I, 'gray')\n",
    "ax1.set_title('Obraz oryginalny') \n",
    "ax2.imshow(Hough, 'gray')\n",
    "ax2.set_title('Transformata Hougha w przestrzeni ab')\n",
    "plt.show()   "
   ]
  },
  {
   "cell_type": "code",
   "execution_count": null,
   "metadata": {},
   "outputs": [],
   "source": [
    "I = np.zeros((100, 100))\n",
    "I[10, 30] = 1\n",
    "I[50, 30] = 1\n",
    "I[60, 30] = 1\n",
    "Hough = Hough_ab(I, -5, 5, 0.05, -100, 100, 1)\n",
    "\n",
    "f, (ax1, ax2) = plt.subplots(1, 2, figsize=(15, 7))\n",
    "ax1.imshow(I, 'gray')\n",
    "ax1.set_title('Obraz oryginalny') \n",
    "ax2.imshow(Hough, 'gray')\n",
    "ax2.set_title('Transformata Hougha w przestrzeni ab')\n",
    "plt.show()   "
   ]
  },
  {
   "cell_type": "code",
   "execution_count": null,
   "metadata": {},
   "outputs": [],
   "source": [
    "I = np.zeros((100, 100))\n",
    "I[20, 30] = 1\n",
    "I[20, 40] = 1\n",
    "I[20, 80] = 1\n",
    "Hough = Hough_ab(I, -5, 5, 0.05, -100, 100, 1)\n",
    "\n",
    "f, (ax1, ax2) = plt.subplots(1, 2, figsize=(15, 7))\n",
    "ax1.imshow(I, 'gray')\n",
    "ax1.set_title('Obraz oryginalny') \n",
    "ax2.imshow(Hough, 'gray')\n",
    "ax2.set_title('Transformata Hougha w przestrzeni ab')\n",
    "plt.show()  "
   ]
  }
 ],
 "metadata": {
  "celltoolbar": "Raw Cell Format",
  "interpreter": {
   "hash": "52634da84371cba311ea128a5ea7cdc41ff074b781779e754b270ff9f8153cee"
  },
  "kernelspec": {
   "display_name": "Python 3.9.0 64-bit",
   "language": "python",
   "name": "python3"
  },
  "language_info": {
   "codemirror_mode": {
    "name": "ipython",
    "version": 3
   },
   "file_extension": ".py",
   "mimetype": "text/x-python",
   "name": "python",
   "nbconvert_exporter": "python",
   "pygments_lexer": "ipython3",
   "version": "3.9.0"
  }
 },
 "nbformat": 4,
 "nbformat_minor": 2
}
